{
  "nbformat": 4,
  "nbformat_minor": 0,
  "metadata": {
    "colab": {
      "name": "Lecture 15",
      "provenance": [],
      "authorship_tag": "ABX9TyP8bE9VoZP19NV1vGSu2/f8",
      "include_colab_link": true
    },
    "kernelspec": {
      "name": "python3",
      "display_name": "Python 3"
    },
    "language_info": {
      "name": "python"
    }
  },
  "cells": [
    {
      "cell_type": "markdown",
      "metadata": {
        "id": "view-in-github",
        "colab_type": "text"
      },
      "source": [
        "<a href=\"https://colab.research.google.com/github/francescomengalli/lecture_15/blob/main/Lecture_15.ipynb\" target=\"_parent\"><img src=\"https://colab.research.google.com/assets/colab-badge.svg\" alt=\"Open In Colab\"/></a>"
      ]
    },
    {
      "cell_type": "code",
      "execution_count": 2,
      "metadata": {
        "id": "TmWcWDWP_Ek9"
      },
      "outputs": [],
      "source": [
        "# github class"
      ]
    },
    {
      "cell_type": "markdown",
      "source": [
        "## big text"
      ],
      "metadata": {
        "id": "yd8XhIK_ERIr"
      }
    },
    {
      "cell_type": "code",
      "source": [
        ""
      ],
      "metadata": {
        "id": "qnkXkd14EM3u"
      },
      "execution_count": null,
      "outputs": []
    }
  ]
}